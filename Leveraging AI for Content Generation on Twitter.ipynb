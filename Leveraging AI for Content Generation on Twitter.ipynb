{
 "cells": [
  {
   "cell_type": "markdown",
   "id": "caa8cd98",
   "metadata": {},
   "source": [
    "# Building a Project with ChatGPT API to auto generate professional tweets"
   ]
  },
  {
   "cell_type": "code",
   "execution_count": 86,
   "id": "70841de5",
   "metadata": {},
   "outputs": [],
   "source": [
    "import os\n",
    "import openai #needed for error handling\n",
    "from openai import OpenAI\n",
    "\n",
    "from dotenv import load_dotenv, find_dotenv\n",
    "_ = load_dotenv(find_dotenv())"
   ]
  },
  {
   "cell_type": "markdown",
   "id": "e5387008",
   "metadata": {},
   "source": [
    "### Authenticate to the API using the API Key\n",
    "#### Pull from environment variables or use api_key = (\"your_key_here\") to hardcode the key"
   ]
  },
  {
   "cell_type": "code",
   "execution_count": 87,
   "id": "7cf566e0",
   "metadata": {},
   "outputs": [],
   "source": [
    "client = OpenAI(api_key=os.environ['OPENAI_API_KEY'])\n",
    "    "
   ]
  },
  {
   "cell_type": "code",
   "execution_count": 88,
   "id": "343f9d1a",
   "metadata": {},
   "outputs": [],
   "source": [
    "# Each interaction with the AI assistant is a new session so the entire chat/message history, \n",
    "# including user prompts and assistant responses must be included in each exchange with the\n",
    "# model/assistant so that it \"remembers\" the entire session\n",
    "context = []\n",
    "def collect_messages(role, message): #keeps track of the message exchange between user and assistant\n",
    "    context.append({'role': role, 'content':f\"{message}\"})"
   ]
  },
  {
   "cell_type": "code",
   "execution_count": 89,
   "id": "7c3c3660",
   "metadata": {},
   "outputs": [],
   "source": [
    "# Sends the prompts to the model for a completion/response\n",
    "def get_completion(temperature=0): \n",
    "    try:\n",
    "        response = client.chat.completions.create(\n",
    "            model=\"gpt-3.5-turbo\",\n",
    "            messages=context, \n",
    "            temperature=temperature, \n",
    "        )\n",
    "\n",
    "        print(\"\\n Assistant: \", response.choices[0].message.content, \"\\n\")\n",
    "\n",
    "        return response.choices[0].message.content\n",
    "    except openai.APIError as e:\n",
    "        print(e.http_status)\n",
    "        print(e.error)\n",
    "        return e.error"
   ]
  },
  {
   "cell_type": "code",
   "execution_count": 90,
   "id": "ebca5506",
   "metadata": {},
   "outputs": [
    {
     "data": {
      "text/plain": [
       "'\\nwhile True:\\n    summary = get_completion()\\n    \\n    collect_messages(\\'assistant\\', summary) #stores the response from the AI assistant\\n    \\n    user_prompt = input(\\'User: \\') #input box for entering prompt\\n    \\n    if user_prompt == \\'exit\\': #end the conversation with the AI assistant\\n        print(\"\\n Goodbye\")\\n        break\\n\\n    collect_messages(\\'user\\', user_prompt) #stores the user prompt\\n'"
      ]
     },
     "execution_count": 90,
     "metadata": {},
     "output_type": "execute_result"
    }
   ],
   "source": [
    "# We may need this code in the next project to generate a full interaction with the user about the content\n",
    "# Start the conversation between the user and the AI assistant/chatbot\n",
    "\"\"\"\n",
    "while True:\n",
    "    summary = get_completion()\n",
    "    \n",
    "    collect_messages('assistant', summary) #stores the response from the AI assistant\n",
    "    \n",
    "    user_prompt = input('User: ') #input box for entering prompt\n",
    "    \n",
    "    if user_prompt == 'exit': #end the conversation with the AI assistant\n",
    "        print(\"\\n Goodbye\")\n",
    "        break\n",
    "\n",
    "    collect_messages('user', user_prompt) #stores the user prompt\n",
    "\"\"\" "
   ]
  },
  {
   "cell_type": "code",
   "execution_count": 104,
   "id": "fe05e310",
   "metadata": {},
   "outputs": [
    {
     "name": "stdout",
     "output_type": "stream",
     "text": [
      "[{'role': 'user', 'content': 'Pick a random startup website in the crypto, artificial intelligence or quantom computing domains. You should only give the link to the website as an answer, without the prefix  https://www. ,Do not repeat yourself'}]\n",
      "\n",
      " Assistant:  coinbase.com \n",
      "\n",
      "coinbase.com\n"
     ]
    }
   ],
   "source": [
    "\n",
    "context.clear()\n",
    "collect_messages('user', 'Pick a random startup website in the crypto, artificial intelligence or quantom computing domains. You should only give the link to the website as an answer, without the prefix  https://www. ,Do not repeat yourself') #stores the user prompt\n",
    "print(context)\n",
    "random_site = get_completion()\n",
    "print(random_site)"
   ]
  },
  {
   "cell_type": "code",
   "execution_count": 106,
   "id": "52c50a19",
   "metadata": {},
   "outputs": [
    {
     "name": "stdout",
     "output_type": "stream",
     "text": [
      "\n",
      " Assistant:  Coinbase is a leading cryptocurrency exchange platform that allows users to buy, sell, and store various digital currencies securely. #crypto #trading \n",
      "\n"
     ]
    }
   ],
   "source": [
    "#sets the persona for the AI assistant using a system message\n",
    "context.clear()\n",
    "collect_messages('system', \"\"\"You are a friendly AI assistant that \n",
    "                            helps compose professional-sounding tweets \n",
    "                            for Twitter that often go viral based on a \n",
    "                            website I provide. You will generate a summary \n",
    "                            of the website in up to 218 characters only!\"\"\")\n",
    "#add the url as the user prompt, and ask to generate a summary\n",
    "collect_messages('user', random_site)\n",
    "summary = get_completion()"
   ]
  },
  {
   "cell_type": "code",
   "execution_count": 107,
   "id": "7c19234d",
   "metadata": {},
   "outputs": [],
   "source": [
    "# Create images based on the website summary\n",
    "def generate_image(summary):\n",
    "    print(summary)\n",
    "    \n",
    "    try:\n",
    "        response = client.images.generate(\n",
    "          model=\"dall-e-3\",\n",
    "          prompt=summary,\n",
    "          size=\"1024x1024\",\n",
    "          quality=\"standard\",\n",
    "          n=1, #select the number of images you want generated\n",
    "        )\n",
    "        \n",
    "        image_url = response.data[0].url #URLs will expire after an hour, so we also need to save the file locally \n",
    "\n",
    "        return image_url\n",
    "    except openai.APIError as e:\n",
    "        print(e.http_status)\n",
    "        print(e.error)\n",
    "        return e.error"
   ]
  },
  {
   "cell_type": "code",
   "execution_count": 108,
   "id": "752b0110",
   "metadata": {},
   "outputs": [
    {
     "name": "stdout",
     "output_type": "stream",
     "text": [
      "Coinbase is a leading cryptocurrency exchange platform that allows users to buy, sell, and store various digital currencies securely. #crypto #trading\n"
     ]
    }
   ],
   "source": [
    "url = generate_image(summary)"
   ]
  },
  {
   "cell_type": "code",
   "execution_count": 109,
   "id": "bc196d10",
   "metadata": {},
   "outputs": [
    {
     "data": {
      "text/html": [
       "<img src=\"https://oaidalleapiprodscus.blob.core.windows.net/private/org-Xpq7QD5G5VDB9ibrYpVDO9at/user-XXLYjR7rCcqu0vxfhe5jO30C/img-YBwDUzcTjSxlYBOnC2HbMMmp.png?st=2024-09-10T08%3A39%3A47Z&se=2024-09-10T10%3A39%3A47Z&sp=r&sv=2024-08-04&sr=b&rscd=inline&rsct=image/png&skoid=d505667d-d6c1-4a0a-bac7-5c84a87759f8&sktid=a48cca56-e6da-484e-a814-9c849652bcb3&skt=2024-09-10T00%3A00%3A44Z&ske=2024-09-11T00%3A00%3A44Z&sks=b&skv=2024-08-04&sig=FSt3OMC8u6sc3B1LrJ%2BLGiY/DY/Z/2hzyWRbg05rpIc%3D\"/>"
      ],
      "text/plain": [
       "<IPython.core.display.Image object>"
      ]
     },
     "execution_count": 109,
     "metadata": {},
     "output_type": "execute_result"
    }
   ],
   "source": [
    "#display the image inline\n",
    "from IPython.display import Image\n",
    "Image(url=url)"
   ]
  },
  {
   "cell_type": "code",
   "execution_count": 12,
   "id": "0228c0cf",
   "metadata": {},
   "outputs": [
    {
     "name": "stdout",
     "output_type": "stream",
     "text": [
      "Requirement already satisfied: tweepy in ./venv/lib/python3.11/site-packages (4.14.0)\n",
      "Requirement already satisfied: oauthlib<4,>=3.2.0 in ./venv/lib/python3.11/site-packages (from tweepy) (3.2.2)\n",
      "Requirement already satisfied: requests<3,>=2.27.0 in ./venv/lib/python3.11/site-packages (from tweepy) (2.32.3)\n",
      "Requirement already satisfied: requests-oauthlib<2,>=1.2.0 in ./venv/lib/python3.11/site-packages (from tweepy) (1.3.1)\n",
      "Requirement already satisfied: charset-normalizer<4,>=2 in ./venv/lib/python3.11/site-packages (from requests<3,>=2.27.0->tweepy) (3.3.2)\n",
      "Requirement already satisfied: idna<4,>=2.5 in ./venv/lib/python3.11/site-packages (from requests<3,>=2.27.0->tweepy) (3.8)\n",
      "Requirement already satisfied: urllib3<3,>=1.21.1 in ./venv/lib/python3.11/site-packages (from requests<3,>=2.27.0->tweepy) (2.2.2)\n",
      "Requirement already satisfied: certifi>=2017.4.17 in ./venv/lib/python3.11/site-packages (from requests<3,>=2.27.0->tweepy) (2024.8.30)\n",
      "Note: you may need to restart the kernel to use updated packages.\n"
     ]
    }
   ],
   "source": [
    "#the twitter api lib\n",
    "pip install tweepy"
   ]
  },
  {
   "cell_type": "code",
   "execution_count": 110,
   "id": "1673aef7",
   "metadata": {},
   "outputs": [],
   "source": [
    "import tweepy\n",
    "import requests\n",
    "\n",
    "# Authenticate to Twitter API\n",
    "consumer_key = os.getenv(\"API_KEY\")\n",
    "consumer_secret = os.getenv(\"API_SECRET_KEY\")\n",
    "access_token = os.getenv(\"ACCESS_TOKEN\")   \n",
    "access_token_secret = os.getenv(\"ACCESS_TOKEN_SECRET_KEY\") \n",
    "\n",
    "#download image to notebook\n",
    "def download_image(imageURL):\n",
    "    print(\"downloading - \", imageURL)\n",
    "    \n",
    "    img_data = requests.get(imageURL).content\n",
    "    with open('dalle_image.jpg', 'wb') as handler:\n",
    "        handler.write(img_data)\n",
    "    \n",
    "    return \"dalle_image.jpg\"\n",
    "\n",
    "#upload image media using V1 of Twitter API\n",
    "def upload_image(image):\n",
    "    auth = tweepy.OAuth1UserHandler(\n",
    "       consumer_key,\n",
    "       consumer_secret,\n",
    "       access_token,\n",
    "       access_token_secret\n",
    "    )\n",
    "\n",
    "    api = tweepy.API(auth)\n",
    "    media = api.media_upload(filename=image) \n",
    "    \n",
    "    return media\n",
    "\n",
    "#send the tweet using V2 of the Twitter API\n",
    "def send_tweet(summary, image):\n",
    "    client = tweepy.Client(\n",
    "        consumer_key=consumer_key, consumer_secret=consumer_secret,\n",
    "        access_token=access_token, access_token_secret=access_token_secret\n",
    "    )\n",
    "\n",
    "    #upload image to Twitter servers and get the media metadata\n",
    "    media = upload_image(image)\n",
    "    media_ids = [media.media_id]\n",
    "    \n",
    "    #send the tweet\n",
    "    print(media_ids)\n",
    "    print(summary)\n",
    "    response = client.create_tweet(text=summary, media_ids=media_ids)\n",
    "    \n",
    "    print(f\"https://twitter.com/user/status/{response.data['id']}\")"
   ]
  },
  {
   "cell_type": "code",
   "execution_count": 111,
   "id": "a72a005f",
   "metadata": {},
   "outputs": [
    {
     "name": "stdout",
     "output_type": "stream",
     "text": [
      "downloading -  https://oaidalleapiprodscus.blob.core.windows.net/private/org-Xpq7QD5G5VDB9ibrYpVDO9at/user-XXLYjR7rCcqu0vxfhe5jO30C/img-YBwDUzcTjSxlYBOnC2HbMMmp.png?st=2024-09-10T08%3A39%3A47Z&se=2024-09-10T10%3A39%3A47Z&sp=r&sv=2024-08-04&sr=b&rscd=inline&rsct=image/png&skoid=d505667d-d6c1-4a0a-bac7-5c84a87759f8&sktid=a48cca56-e6da-484e-a814-9c849652bcb3&skt=2024-09-10T00%3A00%3A44Z&ske=2024-09-11T00%3A00%3A44Z&sks=b&skv=2024-08-04&sig=FSt3OMC8u6sc3B1LrJ%2BLGiY/DY/Z/2hzyWRbg05rpIc%3D\n"
     ]
    }
   ],
   "source": [
    "#download image to the notebook\n",
    "image_name = download_image(url)"
   ]
  },
  {
   "cell_type": "code",
   "execution_count": 112,
   "id": "bcfaefa8",
   "metadata": {},
   "outputs": [
    {
     "name": "stdout",
     "output_type": "stream",
     "text": [
      "[1833440580807868416]\n",
      "Coinbase is a leading cryptocurrency exchange platform that allows users to buy, sell, and store various digital currencies securely. #crypto #trading\n",
      "https://twitter.com/user/status/1833440585299988966\n"
     ]
    }
   ],
   "source": [
    "#post new tweet\n",
    "send_tweet(summary, image_name)"
   ]
  },
  {
   "cell_type": "code",
   "execution_count": null,
   "id": "a359cb77",
   "metadata": {},
   "outputs": [],
   "source": [
    "# This code checks the Twitter API limits on our account\n",
    "import tweepy\n",
    "\n",
    "# Your Twitter API credentials\n",
    "consumer_key = os.getenv(\"API_KEY\")\n",
    "consumer_secret = os.getenv(\"API_SECRET_KEY\")\n",
    "access_token = os.getenv(\"ACCESS_TOKEN\")   \n",
    "access_token_secret = os.getenv(\"ACCESS_TOKEN_SECRET_KEY\") \n",
    "\n",
    "\n",
    "# Authenticate\n",
    "auth = tweepy.OAuthHandler(consumer_key, consumer_secret)\n",
    "auth.set_access_token(access_token, access_token_secret)\n",
    "\n",
    "\n",
    "# Create API object\n",
    "api = tweepy.API(auth)\n",
    "\n",
    "# Get rate limit status\n",
    "rate_limit_status = api.rate_limit_status()\n",
    "\n",
    "# Print rate limits for specific endpoints\n",
    "'''print(\"Rate limits:\")\n",
    "for endpoint, limit in rate_limit_status['resources'].items():\n",
    "    for method, status in limit.items():\n",
    "        print(f\"{endpoint} - {method}:\")\n",
    "        print(f\"  Limit: {status['limit']}\")\n",
    "        print(f\"  Remaining: {status['remaining']}\")\n",
    "        print(f\"  Reset time: {status['reset']}\")\n",
    "        print()'''\n",
    "\n",
    "# Check specific endpoint (e.g., search tweets)\n",
    "search_tweets_limit = rate_limit_status['resources']['tweets&POST']['/tweets&POST']\n",
    "print(\"Search Tweets Endpoint:\")\n",
    "print(f\"  Limit: {search_tweets_limit['limit']}\")\n",
    "print(f\"  Remaining: {search_tweets_limit['remaining']}\")\n",
    "print(f\"  Reset time: {search_tweets_limit['reset']}\")\n",
    "print(rate_limit_status)\n"
   ]
  }
 ],
 "metadata": {
  "kernelspec": {
   "display_name": "Python 3 (ipykernel)",
   "language": "python",
   "name": "python3"
  },
  "language_info": {
   "codemirror_mode": {
    "name": "ipython",
    "version": 3
   },
   "file_extension": ".py",
   "mimetype": "text/x-python",
   "name": "python",
   "nbconvert_exporter": "python",
   "pygments_lexer": "ipython3",
   "version": "3.11.9"
  }
 },
 "nbformat": 4,
 "nbformat_minor": 5
}
